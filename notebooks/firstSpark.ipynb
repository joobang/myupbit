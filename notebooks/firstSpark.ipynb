{
 "cells": [
  {
   "cell_type": "code",
   "execution_count": 1,
   "metadata": {},
   "outputs": [
    {
     "data": {
      "text/html": [
       "<table border='1'>\n",
       "<tr><th>id</th><th>value</th></tr>\n",
       "<tr><td>1</td><td>100</td></tr>\n",
       "<tr><td>2</td><td>200</td></tr>\n",
       "<tr><td>3</td><td>300</td></tr>\n",
       "</table>\n"
      ],
      "text/plain": [
       "+---+-----+\n",
       "| id|value|\n",
       "+---+-----+\n",
       "|  1|  100|\n",
       "|  2|  200|\n",
       "|  3|  300|\n",
       "+---+-----+"
      ]
     },
     "execution_count": 1,
     "metadata": {},
     "output_type": "execute_result"
    }
   ],
   "source": [
    "from pyspark.sql import SparkSession\n",
    "\n",
    "spark = SparkSession.builder \\\n",
    "    .appName(\"Spark\") \\\n",
    "    .config(\"spark.sql.repl.eagerEval.enabled\", True) \\\n",
    "    .getOrCreate()\n",
    "\n",
    "df = spark.createDataFrame([(\"1\",100), (\"2\",200), (\"3\",300)]).toDF(\"id\",\"value\")\n",
    "df"
   ]
  },
  {
   "attachments": {},
   "cell_type": "markdown",
   "metadata": {},
   "source": [
    "id\tvalue\n",
    "1\t100\n",
    "2\t200\n",
    "3\t300\n"
   ]
  },
  {
   "cell_type": "code",
   "execution_count": null,
   "metadata": {},
   "outputs": [],
   "source": [
    "spark = SparkSession.builder \\\n",
    "    .master(\"spark://spark-master:7077\") \\\n",
    "    .appName(\"Spark\") \\\n",
    "    .config(\"spark.sql.repl.eagerEval.enabled\", True) \\\n",
    "    .getOrCreate()\n",
    "\n",
    "df = spark.createDataFrame([(\"1\",100), (\"2\",200), (\"3\",300)]).toDF(\"id\",\"value\")\n",
    "df"
   ]
  },
  {
   "attachments": {},
   "cell_type": "markdown",
   "metadata": {},
   "source": [
    "id\tvalue\n",
    "1\t100\n",
    "2\t200\n",
    "3\t300"
   ]
  }
 ],
 "metadata": {
  "kernelspec": {
   "display_name": "Python 3 (ipykernel)",
   "language": "python",
   "name": "python3"
  },
  "language_info": {
   "codemirror_mode": {
    "name": "ipython",
    "version": 3
   },
   "file_extension": ".py",
   "mimetype": "text/x-python",
   "name": "python",
   "nbconvert_exporter": "python",
   "pygments_lexer": "ipython3",
   "version": "3.11.4"
  }
 },
 "nbformat": 4,
 "nbformat_minor": 4
}
